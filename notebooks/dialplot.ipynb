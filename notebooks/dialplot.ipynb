{
 "cells": [
  {
   "cell_type": "code",
   "execution_count": 1,
   "metadata": {},
   "outputs": [],
   "source": [
    "import chart_studio.plotly as py\n",
    "import plotly.graph_objs as go\n",
    "\n",
    "base_chart = {\n",
    "    \"values\": [40, 10, 10, 10, 10, 10, 10],\n",
    "    \"labels\": [\"-\", \"0\", \"20\", \"40\", \"60\", \"80\", \"100\"],\n",
    "    \"domain\": {\"x\": [0, .48]},\n",
    "    \"marker\": {\n",
    "        \"colors\": [\n",
    "            'rgb(255, 255, 255)',\n",
    "            'rgb(255, 255, 255)',\n",
    "            'rgb(255, 255, 255)',\n",
    "            'rgb(255, 255, 255)',\n",
    "            'rgb(255, 255, 255)',\n",
    "            'rgb(255, 255, 255)',\n",
    "            'rgb(255, 255, 255)'\n",
    "        ],\n",
    "        \"line\": {\n",
    "            \"width\": 1\n",
    "        }\n",
    "    },\n",
    "    \"name\": \"Gauge\",\n",
    "    \"hole\": .4,\n",
    "    \"type\": \"pie\",\n",
    "    \"direction\": \"clockwise\",\n",
    "    \"rotation\": 108,\n",
    "    \"showlegend\": False,\n",
    "    \"hoverinfo\": \"none\",\n",
    "    \"textinfo\": \"label\",\n",
    "    \"textposition\": \"outside\"\n",
    "}"
   ]
  },
  {
   "cell_type": "code",
   "execution_count": 2,
   "metadata": {},
   "outputs": [],
   "source": [
    "meter_chart = {\n",
    "    \"values\": [50, 10, 10, 10, 10, 10],\n",
    "    \"labels\": [\"Log Level\", \"Debug\", \"Info\", \"Warn\", \"Error\", \"Fatal\"],\n",
    "    \"marker\": {\n",
    "        'colors': [\n",
    "            'rgb(255, 255, 255)',\n",
    "            'rgb(232,226,202)',\n",
    "            'rgb(226,210,172)',\n",
    "            'rgb(223,189,139)',\n",
    "            'rgb(223,162,103)',\n",
    "            'rgb(226,126,64)'\n",
    "        ]\n",
    "    },\n",
    "    \"domain\": {\"x\": [0, 0.48]},\n",
    "    \"name\": \"Gauge\",\n",
    "    \"hole\": .3,\n",
    "    \"type\": \"pie\",\n",
    "    \"direction\": \"clockwise\",\n",
    "    \"rotation\": 90,\n",
    "    \"showlegend\": False,\n",
    "    \"textinfo\": \"label\",\n",
    "    \"textposition\": \"inside\",\n",
    "    \"hoverinfo\": \"none\",\n",
    "  \n",
    "}"
   ]
  },
  {
   "cell_type": "code",
   "execution_count": 3,
   "metadata": {},
   "outputs": [
    {
     "ename": "AttributeError",
     "evalue": "'dict' object has no attribute 'show'",
     "output_type": "error",
     "traceback": [
      "\u001b[0;31m---------------------------------------------------------------------------\u001b[0m",
      "\u001b[0;31mAttributeError\u001b[0m                            Traceback (most recent call last)",
      "\u001b[1;32m/home/john/projects/studioai/notebooks/dialplot.ipynb Cell 3\u001b[0m line \u001b[0;36m4\n\u001b[1;32m     <a href='vscode-notebook-cell://wsl%2Bubuntu/home/john/projects/studioai/notebooks/dialplot.ipynb#W3sdnNjb2RlLXJlbW90ZQ%3D%3D?line=36'>37</a>\u001b[0m base_chart[\u001b[39m'\u001b[39m\u001b[39mmarker\u001b[39m\u001b[39m'\u001b[39m][\u001b[39m'\u001b[39m\u001b[39mline\u001b[39m\u001b[39m'\u001b[39m][\u001b[39m'\u001b[39m\u001b[39mwidth\u001b[39m\u001b[39m'\u001b[39m] \u001b[39m=\u001b[39m \u001b[39m0\u001b[39m\n\u001b[1;32m     <a href='vscode-notebook-cell://wsl%2Bubuntu/home/john/projects/studioai/notebooks/dialplot.ipynb#W3sdnNjb2RlLXJlbW90ZQ%3D%3D?line=38'>39</a>\u001b[0m fig \u001b[39m=\u001b[39m {\u001b[39m\"\u001b[39m\u001b[39mdata\u001b[39m\u001b[39m\"\u001b[39m: [base_chart, meter_chart],\n\u001b[1;32m     <a href='vscode-notebook-cell://wsl%2Bubuntu/home/john/projects/studioai/notebooks/dialplot.ipynb#W3sdnNjb2RlLXJlbW90ZQ%3D%3D?line=39'>40</a>\u001b[0m        \u001b[39m\"\u001b[39m\u001b[39mlayout\u001b[39m\u001b[39m\"\u001b[39m: layout}\n\u001b[0;32m---> <a href='vscode-notebook-cell://wsl%2Bubuntu/home/john/projects/studioai/notebooks/dialplot.ipynb#W3sdnNjb2RlLXJlbW90ZQ%3D%3D?line=40'>41</a>\u001b[0m fig\u001b[39m.\u001b[39;49mshow()\n",
      "\u001b[0;31mAttributeError\u001b[0m: 'dict' object has no attribute 'show'"
     ]
    }
   ],
   "source": [
    "layout = {\n",
    "    'xaxis': {\n",
    "        'showticklabels': False,\n",
    "        'showgrid': False,\n",
    "        'zeroline': False,\n",
    "    },\n",
    "    'yaxis': {\n",
    "        'showticklabels': False,\n",
    "        'showgrid': False,\n",
    "        'zeroline': False,\n",
    "    },\n",
    "    'shapes': [\n",
    "        {\n",
    "            'type': 'path',\n",
    "            'path': 'M 0.235 0.5 L 0.24 0.65 L 0.245 0.5 Z',\n",
    "            'fillcolor': 'rgba(44, 160, 101, 0.5)',\n",
    "            'line': {\n",
    "                'width': 0.5\n",
    "            },\n",
    "            'xref': 'paper',\n",
    "            'yref': 'paper'\n",
    "        }\n",
    "    ],\n",
    "    'annotations': [\n",
    "        {\n",
    "            'xref': 'paper',\n",
    "            'yref': 'paper',\n",
    "            'x': 0.23,\n",
    "            'y': 0.45,\n",
    "            'text': '50',\n",
    "            'showarrow': False\n",
    "        }\n",
    "    ]\n",
    "}\n",
    "\n",
    "# we don't want the boundary now\n",
    "base_chart['marker']['line']['width'] = 0\n",
    "\n",
    "fig = {\"data\": [base_chart, meter_chart],\n",
    "       \"layout\": layout}\n",
    "py.iplot(fig)"
   ]
  }
 ],
 "metadata": {
  "kernelspec": {
   "display_name": "studioai",
   "language": "python",
   "name": "python3"
  },
  "language_info": {
   "codemirror_mode": {
    "name": "ipython",
    "version": 3
   },
   "file_extension": ".py",
   "mimetype": "text/x-python",
   "name": "python",
   "nbconvert_exporter": "python",
   "pygments_lexer": "ipython3",
   "version": "3.10.12"
  },
  "orig_nbformat": 4
 },
 "nbformat": 4,
 "nbformat_minor": 2
}
