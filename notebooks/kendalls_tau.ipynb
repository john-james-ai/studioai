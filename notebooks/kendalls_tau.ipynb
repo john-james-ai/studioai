{
 "cells": [
  {
   "cell_type": "code",
   "execution_count": 1,
   "metadata": {},
   "outputs": [],
   "source": [
    "import pandas as pd\n",
    "import numpy as np\n",
    "\n",
    "from studioai.analysis.stats.inferential.association import KendallsTauAnalysis\n",
    "\n",
    "from studioai.visual.visualizer import Visualizer"
   ]
  },
  {
   "cell_type": "code",
   "execution_count": 2,
   "metadata": {},
   "outputs": [
    {
     "name": "stdout",
     "output_type": "stream",
     "text": [
      "<class 'pandas.core.frame.DataFrame'>\n",
      "RangeIndex: 164 entries, 0 to 163\n",
      "Data columns (total 8 columns):\n",
      " #   Column          Non-Null Count  Dtype \n",
      "---  ------          --------------  ----- \n",
      " 0   Age             164 non-null    int64 \n",
      " 1   Gender          164 non-null    object\n",
      " 2   Income          164 non-null    int64 \n",
      " 3   Education       164 non-null    object\n",
      " 4   Marital Status  164 non-null    object\n",
      " 5   Children        164 non-null    int64 \n",
      " 6   Own             164 non-null    object\n",
      " 7   Credit Rating   164 non-null    object\n",
      "dtypes: int64(3), object(5)\n",
      "memory usage: 10.4+ KB\n"
     ]
    }
   ],
   "source": [
    "fp = \"data/Credit Score Classification Dataset.csv\"\n",
    "df = pd.read_csv(fp)\n",
    "df.info()"
   ]
  },
  {
   "cell_type": "code",
   "execution_count": 5,
   "metadata": {},
   "outputs": [
    {
     "data": {
      "text/plain": [
       "KendallsTau(name=\"Kendall's Tau\", value=0.28710588935157644, interpretation='Moderate', data=     Age  Gender  Income            Education Marital Status  Children  \\\n",
       "0     25  Female   50000    Bachelor's Degree         Single         0   \n",
       "1     30    Male  100000      Master's Degree        Married         2   \n",
       "2     35  Female   75000            Doctorate        Married         1   \n",
       "3     40    Male  125000  High School Diploma         Single         0   \n",
       "4     45  Female  100000    Bachelor's Degree        Married         3   \n",
       "..   ...     ...     ...                  ...            ...       ...   \n",
       "159   29  Female   27500  High School Diploma         Single         0   \n",
       "160   34    Male   47500   Associate's Degree         Single         0   \n",
       "161   39  Female   62500    Bachelor's Degree        Married         2   \n",
       "162   44    Male   87500      Master's Degree         Single         0   \n",
       "163   49  Female   77500            Doctorate        Married         1   \n",
       "\n",
       "        Own Credit Rating  \n",
       "0    Rented          High  \n",
       "1     Owned          High  \n",
       "2     Owned          High  \n",
       "3     Owned          High  \n",
       "4     Owned          High  \n",
       "..      ...           ...  \n",
       "159  Rented           Low  \n",
       "160  Rented       Average  \n",
       "161   Owned          High  \n",
       "162   Owned          High  \n",
       "163   Owned          High  \n",
       "\n",
       "[164 rows x 8 columns], a='Education', b='Credit Rating', thresholds=array([-1.  , -0.71, -0.49, -0.26, -0.06,  0.  ,  0.06,  0.26,  0.49,\n",
       "        0.71,  1.  ]), pvalue=4.059857391076673e-06, result=\"Kendall's Tau Test of Correlation\\nEducation and Credit rating\\nτ=0.28710588935157644,p<.001.\", visualizer=<dependency_injector.wiring.Provide object at 0x7f5a7d4eea70>)"
      ]
     },
     "execution_count": 5,
     "metadata": {},
     "output_type": "execute_result"
    },
    {
     "ename": "AttributeError",
     "evalue": "'Provide' object has no attribute 'kendallstau'",
     "output_type": "error",
     "traceback": [
      "\u001b[0;31m---------------------------------------------------------------------------\u001b[0m",
      "\u001b[0;31mAttributeError\u001b[0m                            Traceback (most recent call last)",
      "\u001b[1;32m/home/john/projects/studioai/notebooks/kendalls_tau.ipynb Cell 3\u001b[0m line \u001b[0;36m4\n\u001b[1;32m      <a href='vscode-notebook-cell://wsl%2Bubuntu/home/john/projects/studioai/notebooks/kendalls_tau.ipynb#X10sdnNjb2RlLXJlbW90ZQ%3D%3D?line=1'>2</a>\u001b[0m analysis\u001b[39m.\u001b[39mrun()\n\u001b[1;32m      <a href='vscode-notebook-cell://wsl%2Bubuntu/home/john/projects/studioai/notebooks/kendalls_tau.ipynb#X10sdnNjb2RlLXJlbW90ZQ%3D%3D?line=2'>3</a>\u001b[0m analysis\u001b[39m.\u001b[39mmeasure\n\u001b[0;32m----> <a href='vscode-notebook-cell://wsl%2Bubuntu/home/john/projects/studioai/notebooks/kendalls_tau.ipynb#X10sdnNjb2RlLXJlbW90ZQ%3D%3D?line=3'>4</a>\u001b[0m analysis\u001b[39m.\u001b[39;49mmeasure\u001b[39m.\u001b[39;49mplot()\n",
      "File \u001b[0;32m~/projects/studioai/studioai/stats/inferential/kendallstau.py:54\u001b[0m, in \u001b[0;36mKendallsTau.plot\u001b[0;34m(self)\u001b[0m\n\u001b[1;32m     53\u001b[0m \u001b[39mdef\u001b[39;00m \u001b[39mplot\u001b[39m(\u001b[39mself\u001b[39m) \u001b[39m-\u001b[39m\u001b[39m>\u001b[39m \u001b[39mNone\u001b[39;00m:  \u001b[39m# pragma: no cover\u001b[39;00m\n\u001b[0;32m---> 54\u001b[0m     \u001b[39mself\u001b[39;49m\u001b[39m.\u001b[39;49mvisualizer\u001b[39m.\u001b[39;49mkendallstau(\n\u001b[1;32m     55\u001b[0m         data\u001b[39m=\u001b[39m\u001b[39mself\u001b[39m\u001b[39m.\u001b[39mdata,\n\u001b[1;32m     56\u001b[0m         a\u001b[39m=\u001b[39m\u001b[39mself\u001b[39m\u001b[39m.\u001b[39ma,\n\u001b[1;32m     57\u001b[0m         b\u001b[39m=\u001b[39m\u001b[39mself\u001b[39m\u001b[39m.\u001b[39mb,\n\u001b[1;32m     58\u001b[0m         value\u001b[39m=\u001b[39m\u001b[39mself\u001b[39m\u001b[39m.\u001b[39mvalue,\n\u001b[1;32m     59\u001b[0m         thresholds\u001b[39m=\u001b[39m\u001b[39mself\u001b[39m\u001b[39m.\u001b[39mthresholds,\n\u001b[1;32m     60\u001b[0m         interpretation\u001b[39m=\u001b[39m\u001b[39mself\u001b[39m\u001b[39m.\u001b[39minterpretation,\n\u001b[1;32m     61\u001b[0m     )\n",
      "\u001b[0;31mAttributeError\u001b[0m: 'Provide' object has no attribute 'kendallstau'"
     ]
    }
   ],
   "source": [
    "analysis = KendallsTauAnalysis(data=df, a='Education', b='Credit Rating')\n",
    "analysis.run()\n",
    "analysis.measure\n",
    "analysis.measure.plot()"
   ]
  },
  {
   "cell_type": "code",
   "execution_count": null,
   "metadata": {},
   "outputs": [],
   "source": [
    "viz = Visualizer()\n",
    "viz.cramersv(data=analysis.measure.data, dof=analysis.measure.dof, value=analysis.measure.value, thresholds=analysis.measure.thresholds, interpretation=analysis.measure.interpretation)"
   ]
  },
  {
   "cell_type": "code",
   "execution_count": null,
   "metadata": {},
   "outputs": [],
   "source": [
    "f\"$r_t$\""
   ]
  }
 ],
 "metadata": {
  "kernelspec": {
   "display_name": "studioai",
   "language": "python",
   "name": "python3"
  },
  "language_info": {
   "codemirror_mode": {
    "name": "ipython",
    "version": 3
   },
   "file_extension": ".py",
   "mimetype": "text/x-python",
   "name": "python",
   "nbconvert_exporter": "python",
   "pygments_lexer": "ipython3",
   "version": "3.10.12"
  },
  "orig_nbformat": 4
 },
 "nbformat": 4,
 "nbformat_minor": 2
}
