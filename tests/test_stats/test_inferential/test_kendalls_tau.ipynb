{
 "cells": [
  {
   "cell_type": "markdown",
   "metadata": {},
   "source": [
    "# Test Cramers V Measure of Association"
   ]
  },
  {
   "cell_type": "code",
   "execution_count": 1,
   "metadata": {},
   "outputs": [],
   "source": [
    "import pandas as pd\n",
    "import numpy as np\n",
    "\n",
    "from studioai.stats.inferential.cramersv import CramersVAnalysis\n",
    "\n",
    "from studioai.visual.visualizer import Visualizer\n",
    "from studioai.container import StudioAIContainer"
   ]
  },
  {
   "cell_type": "code",
   "execution_count": 2,
   "metadata": {},
   "outputs": [
    {
     "ename": "ModuleNotFoundError",
     "evalue": "No module named 'stats'",
     "output_type": "error",
     "traceback": [
      "\u001b[0;31m---------------------------------------------------------------------------\u001b[0m",
      "\u001b[0;31mModuleNotFoundError\u001b[0m                       Traceback (most recent call last)",
      "\u001b[1;32m/home/john/projects/studioai/tests/test_stats/test_inferential/test_cramers_v..ipynb Cell 3\u001b[0m line \u001b[0;36m3\n\u001b[1;32m      <a href='vscode-notebook-cell://wsl%2Bubuntu/home/john/projects/studioai/tests/test_stats/test_inferential/test_cramers_v..ipynb#X14sdnNjb2RlLXJlbW90ZQ%3D%3D?line=0'>1</a>\u001b[0m container \u001b[39m=\u001b[39m StudioAIContainer()\n\u001b[1;32m      <a href='vscode-notebook-cell://wsl%2Bubuntu/home/john/projects/studioai/tests/test_stats/test_inferential/test_cramers_v..ipynb#X14sdnNjb2RlLXJlbW90ZQ%3D%3D?line=1'>2</a>\u001b[0m container\u001b[39m.\u001b[39minit_resources()\n\u001b[0;32m----> <a href='vscode-notebook-cell://wsl%2Bubuntu/home/john/projects/studioai/tests/test_stats/test_inferential/test_cramers_v..ipynb#X14sdnNjb2RlLXJlbW90ZQ%3D%3D?line=2'>3</a>\u001b[0m container\u001b[39m.\u001b[39;49mwire(packages\u001b[39m=\u001b[39;49m[\u001b[39m'\u001b[39;49m\u001b[39mstats\u001b[39;49m\u001b[39m'\u001b[39;49m])\n",
      "File \u001b[0;32msrc/dependency_injector/containers.pyx:312\u001b[0m, in \u001b[0;36mdependency_injector.containers.DynamicContainer.wire\u001b[0;34m()\u001b[0m\n",
      "File \u001b[0;32msrc/dependency_injector/containers.pyx:916\u001b[0m, in \u001b[0;36mdependency_injector.containers._resolve_string_imports\u001b[0;34m()\u001b[0m\n",
      "File \u001b[0;32m~/anaconda3/envs/studioai/lib/python3.10/importlib/__init__.py:126\u001b[0m, in \u001b[0;36mimport_module\u001b[0;34m(name, package)\u001b[0m\n\u001b[1;32m    124\u001b[0m             \u001b[39mbreak\u001b[39;00m\n\u001b[1;32m    125\u001b[0m         level \u001b[39m+\u001b[39m\u001b[39m=\u001b[39m \u001b[39m1\u001b[39m\n\u001b[0;32m--> 126\u001b[0m \u001b[39mreturn\u001b[39;00m _bootstrap\u001b[39m.\u001b[39;49m_gcd_import(name[level:], package, level)\n",
      "File \u001b[0;32m<frozen importlib._bootstrap>:1050\u001b[0m, in \u001b[0;36m_gcd_import\u001b[0;34m(name, package, level)\u001b[0m\n",
      "File \u001b[0;32m<frozen importlib._bootstrap>:1027\u001b[0m, in \u001b[0;36m_find_and_load\u001b[0;34m(name, import_)\u001b[0m\n",
      "File \u001b[0;32m<frozen importlib._bootstrap>:1004\u001b[0m, in \u001b[0;36m_find_and_load_unlocked\u001b[0;34m(name, import_)\u001b[0m\n",
      "\u001b[0;31mModuleNotFoundError\u001b[0m: No module named 'stats'"
     ]
    }
   ],
   "source": [
    "container = StudioAIContainer()\n",
    "container.init_resources()\n",
    "container.wire(packages=['studioai.stats'])"
   ]
  },
  {
   "cell_type": "code",
   "execution_count": null,
   "metadata": {},
   "outputs": [],
   "source": [
    "fp = \"data/Credit Score Classification Dataset.csv\"\n",
    "df = pd.read_csv(fp)\n",
    "df.info()"
   ]
  },
  {
   "cell_type": "code",
   "execution_count": null,
   "metadata": {},
   "outputs": [],
   "source": [
    "analysis = CramersVAnalysis(data=df, x='Gender', y='Education')\n",
    "analysis.run()\n",
    "analysis.measure\n",
    "analysis.measure.plot()"
   ]
  },
  {
   "cell_type": "code",
   "execution_count": null,
   "metadata": {},
   "outputs": [],
   "source": [
    "viz = Visualizer()\n",
    "viz.cramersv(data=analysis.measure.data, dof=analysis.measure.dof, value=analysis.measure.value, thresholds=analysis.measure.thresholds, interpretation=analysis.measure.interpretation)"
   ]
  },
  {
   "cell_type": "code",
   "execution_count": null,
   "metadata": {},
   "outputs": [],
   "source": [
    "f\"$r_t$\""
   ]
  }
 ],
 "metadata": {
  "kernelspec": {
   "display_name": "studioai",
   "language": "python",
   "name": "python3"
  },
  "language_info": {
   "codemirror_mode": {
    "name": "ipython",
    "version": 3
   },
   "file_extension": ".py",
   "mimetype": "text/x-python",
   "name": "python",
   "nbconvert_exporter": "python",
   "pygments_lexer": "ipython3",
   "version": "3.10.12"
  },
  "orig_nbformat": 4
 },
 "nbformat": 4,
 "nbformat_minor": 2
}
