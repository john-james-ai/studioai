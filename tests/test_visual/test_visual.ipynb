{
 "cells": [
  {
   "cell_type": "markdown",
   "metadata": {},
   "source": [
    "# Validate SeabornVisual"
   ]
  },
  {
   "cell_type": "code",
   "execution_count": null,
   "metadata": {},
   "outputs": [],
   "source": [
    "import warnings\n",
    "import pandas as pd\n",
    "import numpy as np\n",
    "from scipy import stats\n",
    "\n",
    "from studioai.visual.seaborn import Visualizer, SeabornCanvas"
   ]
  },
  {
   "cell_type": "markdown",
   "metadata": {},
   "source": [
    "## Data"
   ]
  },
  {
   "cell_type": "code",
   "execution_count": null,
   "metadata": {},
   "outputs": [],
   "source": [
    "FP = \"data/Credit Score Classification Dataset.csv\"\n",
    "df = pd.read_csv(FP, index_col=None)"
   ]
  },
  {
   "cell_type": "markdown",
   "metadata": {},
   "source": [
    "## Visualizer"
   ]
  },
  {
   "cell_type": "code",
   "execution_count": null,
   "metadata": {},
   "outputs": [],
   "source": [
    "visual = Visualizer(canvas=SeabornCanvas())"
   ]
  },
  {
   "cell_type": "markdown",
   "metadata": {},
   "source": []
  },
  {
   "cell_type": "markdown",
   "metadata": {},
   "source": [
    "## Lineplot"
   ]
  },
  {
   "cell_type": "raw",
   "metadata": {},
   "source": [
    "visual.lineplot(data=df, x=\"Age\", y=\"Income\", title=\"Test Lineplot\")\n"
   ]
  },
  {
   "cell_type": "markdown",
   "metadata": {},
   "source": [
    "## Scatterplot"
   ]
  },
  {
   "cell_type": "raw",
   "metadata": {},
   "source": [
    "visual.scatterplot(data=df, x=\"Age\", y=\"Income\",title=\"Test Scatterplot\")\n",
    "visual.scatterplot(data=df, x=\"Age\", y=\"Income\", hue=\"Gender\", title=\"Test Scatterplot\")"
   ]
  },
  {
   "cell_type": "markdown",
   "metadata": {},
   "source": [
    "## CountPlot"
   ]
  },
  {
   "cell_type": "code",
   "execution_count": null,
   "metadata": {},
   "outputs": [],
   "source": [
    "visual.countplot(data=df, x=\"Education\",hue=\"Gender\", title=\"Test Countplot\")\n",
    "visual.countplot(data=df, y=\"Education\", hue=\"Gender\", title=\"Test Countplot\")\n",
    "visual.countplot(data=df, x=\"Credit Rating\",hue=\"Gender\", title=\"Test Countplot\")\n",
    "visual.countplot(data=df, y=\"Credit Rating\", hue=\"Gender\", title=\"Test Countplot\")\n",
    "visual.countplot(data=df, x=\"Gender\",hue=\"Credit Rating\", title=\"Test Countplot\")\n",
    "visual.countplot(data=df, y=\"Gender\",hue=\"Credit Rating\", title=\"Test Countplot\")"
   ]
  },
  {
   "cell_type": "markdown",
   "metadata": {},
   "source": [
    "## Histogram"
   ]
  },
  {
   "cell_type": "code",
   "execution_count": null,
   "metadata": {},
   "outputs": [],
   "source": [
    "visual.histogram(data=df, x=\"Income\")\n",
    "visual.histogram(data=df, x=\"Income\", hue=\"Gender\", multiple=\"dodge\")\n",
    "visual.histogram(data=df, x=\"Education\", hue=\"Credit Rating\", multiple=\"dodge\", stat=\"count\")"
   ]
  },
  {
   "cell_type": "markdown",
   "metadata": {},
   "source": [
    "## Boxplot"
   ]
  },
  {
   "cell_type": "code",
   "execution_count": null,
   "metadata": {},
   "outputs": [],
   "source": [
    "visual.boxplot(data=df, x=\"Income\")\n",
    "visual.boxplot(data=df, x=\"Income\", y=\"Education\")\n",
    "visual.boxplot(data=df, x=\"Income\", y=\"Education\", hue=\"Credit Rating\")"
   ]
  },
  {
   "cell_type": "markdown",
   "metadata": {},
   "source": [
    "## KDEPlot"
   ]
  },
  {
   "cell_type": "code",
   "execution_count": null,
   "metadata": {},
   "outputs": [],
   "source": [
    "visual.kdeplot(data=df, x=\"Income\")\n",
    "visual.kdeplot(data=df, x=\"Income\", hue=\"Credit Rating\")"
   ]
  },
  {
   "cell_type": "markdown",
   "metadata": {},
   "source": [
    "## ECDFPlot"
   ]
  },
  {
   "cell_type": "code",
   "execution_count": null,
   "metadata": {},
   "outputs": [],
   "source": [
    "visual.ecdfplot(data=df, x=\"Income\")\n",
    "visual.ecdfplot(data=df, x=\"Income\", hue=\"Credit Rating\")"
   ]
  },
  {
   "cell_type": "markdown",
   "metadata": {},
   "source": [
    "## Barplot"
   ]
  },
  {
   "cell_type": "code",
   "execution_count": null,
   "metadata": {},
   "outputs": [],
   "source": [
    "visual.barplot(data=df, x=\"Credit Rating\", y=\"Income\")\n",
    "visual.barplot(data=df, x=\"Credit Rating\", y=\"Income\", hue=\"Gender\")"
   ]
  },
  {
   "cell_type": "markdown",
   "metadata": {},
   "source": [
    "## Violinplot"
   ]
  },
  {
   "cell_type": "code",
   "execution_count": null,
   "metadata": {},
   "outputs": [],
   "source": [
    "visual.violinplot(data=df, x=\"Credit Rating\", y=\"Income\")\n",
    "visual.violinplot(data=df, x=\"Credit Rating\", y=\"Income\", hue=\"Gender\")"
   ]
  },
  {
   "cell_type": "markdown",
   "metadata": {},
   "source": [
    "## PDFCDF Plot"
   ]
  },
  {
   "cell_type": "code",
   "execution_count": null,
   "metadata": {},
   "outputs": [],
   "source": [
    "visual.pdfcdfplot(data=df, x=\"Income\")"
   ]
  },
  {
   "cell_type": "markdown",
   "metadata": {},
   "source": [
    "## Pairplot"
   ]
  },
  {
   "cell_type": "code",
   "execution_count": null,
   "metadata": {},
   "outputs": [],
   "source": [
    "visual.pairplot(data=df, vars=[\"Income\", \"Age\"])\n",
    "visual.pairplot(data=df, vars=[\"Income\", \"Age\"], hue=\"Gender\")"
   ]
  },
  {
   "cell_type": "markdown",
   "metadata": {},
   "source": [
    "## Jointplot"
   ]
  },
  {
   "cell_type": "code",
   "execution_count": null,
   "metadata": {},
   "outputs": [],
   "source": [
    "visual.jointplot(data=df, x=\"Income\", y=\"Age\")\n",
    "visual.jointplot(data=df, x=\"Income\", y=\"Age\", hue=\"Gender\")"
   ]
  },
  {
   "cell_type": "markdown",
   "metadata": {},
   "source": [
    "## TTest Plot"
   ]
  },
  {
   "cell_type": "code",
   "execution_count": null,
   "metadata": {},
   "outputs": [],
   "source": [
    "statistic = 3.0837738032031523\n",
    "result = f\"Independent Samples t Test\\na: (N = 86, M = 36.08, SD = 8.26)\\nb: (N = 78, M = 40.06, SD = 8.16)\\nt(162) = 3.08, p=0.0024 significant at 5%.\"\n",
    "dof = 162\n",
    "alpha = 0.05\n",
    "visual.ttestplot(statistic=statistic, dof=dof, result=result, alpha=alpha, title=\"T-Test Plot\")\n"
   ]
  },
  {
   "cell_type": "markdown",
   "metadata": {},
   "source": [
    "## X2 Test"
   ]
  },
  {
   "cell_type": "code",
   "execution_count": null,
   "metadata": {},
   "outputs": [],
   "source": [
    "statistic = 84.63607036750058\n",
    "alpha = 0.05\n",
    "result = f\"X² Test of Independence\\nCredit rating and Education\\nX²(8, N=164)=84.64, p<.001.\"\n",
    "dof = 8\n",
    "x = \"Credit Rating\"\n",
    "y = \"Education\"\n",
    "visual.x2testplot(statistic=statistic, dof=dof, result=result, alpha=alpha)"
   ]
  }
 ],
 "metadata": {
  "kernelspec": {
   "display_name": "d8analysis",
   "language": "python",
   "name": "python3"
  },
  "language_info": {
   "codemirror_mode": {
    "name": "ipython",
    "version": 3
   },
   "file_extension": ".py",
   "mimetype": "text/x-python",
   "name": "python",
   "nbconvert_exporter": "python",
   "pygments_lexer": "ipython3",
   "version": "3.10.12"
  },
  "orig_nbformat": 4
 },
 "nbformat": 4,
 "nbformat_minor": 2
}
